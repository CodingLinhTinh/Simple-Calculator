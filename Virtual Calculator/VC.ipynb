{
 "cells": [
  {
   "cell_type": "markdown",
   "id": "332b62c5-3985-4c99-b5fb-722f49577a77",
   "metadata": {
    "tags": []
   },
   "source": [
    "# Virtual Calculator\n",
    "##### Bị cách ly buồn quá nên làm chơi"
   ]
  },
  {
   "cell_type": "markdown",
   "id": "d4e71cec-7f6a-4565-8959-151ddac04574",
   "metadata": {},
   "source": [
    "# Cài các thư viện sau"
   ]
  },
  {
   "cell_type": "code",
   "execution_count": 1,
   "id": "c7f1b548-ea86-4651-b9ae-536b7b77a81d",
   "metadata": {
    "collapsed": true,
    "jupyter": {
     "outputs_hidden": true
    },
    "tags": []
   },
   "outputs": [
    {
     "name": "stdout",
     "output_type": "stream",
     "text": [
      "Collecting cvzone\n",
      "  Downloading cvzone-1.5.3.tar.gz (12 kB)\n",
      "  Preparing metadata (setup.py): started\n",
      "  Preparing metadata (setup.py): finished with status 'done'\n",
      "Collecting opencv-python\n",
      "  Downloading opencv_python-4.5.4.60-cp310-cp310-win_amd64.whl (35.1 MB)\n",
      "Requirement already satisfied: numpy in c:\\users\\quach\\appdata\\local\\programs\\python\\python310\\lib\\site-packages (from cvzone) (1.21.4)\n",
      "Using legacy 'setup.py install' for cvzone, since package 'wheel' is not installed.\n",
      "Installing collected packages: opencv-python, cvzoneNote: you may need to restart the kernel to use updated packages.\n",
      "    Running setup.py install for cvzone: started\n",
      "    Running setup.py install for cvzone: finished with status 'done'\n",
      "Successfully installed cvzone-1.5.3 opencv-python-4.5.4.60\n",
      "\n"
     ]
    }
   ],
   "source": [
    "pip install cvzone"
   ]
  },
  {
   "cell_type": "code",
   "execution_count": 2,
   "id": "a4a38d40-1417-4287-8463-f49d840cb744",
   "metadata": {
    "collapsed": true,
    "jupyter": {
     "outputs_hidden": true
    },
    "tags": []
   },
   "outputs": [
    {
     "name": "stdout",
     "output_type": "stream",
     "text": [
      "Collecting mediapipe\n",
      "  Downloading mediapipe-0.8.9.1-cp310-cp310-win_amd64.whl (48.5 MB)\n",
      "Collecting opencv-contrib-python\n",
      "  Downloading opencv_contrib_python-4.5.4.60-cp310-cp310-win_amd64.whl (42.0 MB)\n",
      "Requirement already satisfied: attrs>=19.1.0 in c:\\users\\quach\\appdata\\local\\programs\\python\\python310\\lib\\site-packages (from mediapipe) (21.2.0)\n",
      "Requirement already satisfied: matplotlib in c:\\users\\quach\\appdata\\local\\programs\\python\\python310\\lib\\site-packages (from mediapipe) (3.5.0)\n",
      "Requirement already satisfied: numpy in c:\\users\\quach\\appdata\\local\\programs\\python\\python310\\lib\\site-packages (from mediapipe) (1.21.4)\n",
      "Collecting absl-py\n",
      "  Downloading absl_py-1.0.0-py3-none-any.whl (126 kB)\n",
      "Collecting protobuf>=3.11.4\n",
      "  Downloading protobuf-3.19.1-py2.py3-none-any.whl (162 kB)\n",
      "Requirement already satisfied: six in c:\\users\\quach\\appdata\\local\\programs\\python\\python310\\lib\\site-packages (from absl-py->mediapipe) (1.16.0)\n",
      "Requirement already satisfied: kiwisolver>=1.0.1 in c:\\users\\quach\\appdata\\local\\programs\\python\\python310\\lib\\site-packages (from matplotlib->mediapipe) (1.3.2)\n",
      "Requirement already satisfied: pyparsing>=2.2.1 in c:\\users\\quach\\appdata\\local\\programs\\python\\python310\\lib\\site-packages (from matplotlib->mediapipe) (3.0.6)\n",
      "Requirement already satisfied: setuptools-scm>=4 in c:\\users\\quach\\appdata\\local\\programs\\python\\python310\\lib\\site-packages (from matplotlib->mediapipe) (6.3.2)\n",
      "Requirement already satisfied: python-dateutil>=2.7 in c:\\users\\quach\\appdata\\local\\programs\\python\\python310\\lib\\site-packages (from matplotlib->mediapipe) (2.8.2)\n",
      "Requirement already satisfied: pillow>=6.2.0 in c:\\users\\quach\\appdata\\local\\programs\\python\\python310\\lib\\site-packages (from matplotlib->mediapipe) (8.4.0)\n",
      "Requirement already satisfied: cycler>=0.10 in c:\\users\\quach\\appdata\\local\\programs\\python\\python310\\lib\\site-packages (from matplotlib->mediapipe) (0.11.0)\n",
      "Requirement already satisfied: packaging>=20.0 in c:\\users\\quach\\appdata\\local\\programs\\python\\python310\\lib\\site-packages (from matplotlib->mediapipe) (21.3)\n",
      "Requirement already satisfied: fonttools>=4.22.0 in c:\\users\\quach\\appdata\\local\\programs\\python\\python310\\lib\\site-packages (from matplotlib->mediapipe) (4.28.2)\n",
      "Requirement already satisfied: setuptools in c:\\users\\quach\\appdata\\local\\programs\\python\\python310\\lib\\site-packages (from setuptools-scm>=4->matplotlib->mediapipe) (57.4.0)\n",
      "Requirement already satisfied: tomli>=1.0.0 in c:\\users\\quach\\appdata\\local\\programs\\python\\python310\\lib\\site-packages (from setuptools-scm>=4->matplotlib->mediapipe) (1.2.2)\n",
      "Installing collected packages: protobuf, opencv-contrib-python, absl-py, mediapipe\n",
      "Successfully installed absl-py-1.0.0 mediapipe-0.8.9.1 opencv-contrib-python-4.5.4.60 protobuf-3.19.1\n",
      "Note: you may need to restart the kernel to use updated packages.\n"
     ]
    }
   ],
   "source": [
    "pip install mediapipe"
   ]
  },
  {
   "cell_type": "markdown",
   "id": "e92b0e8a-d69f-479e-b566-79f38d26a928",
   "metadata": {
    "tags": []
   },
   "source": [
    "# Tiến Hành\n",
    "* Import các thư viện sau, thư viện HandDetector sẽ xem các cử động tay"
   ]
  },
  {
   "cell_type": "code",
   "execution_count": 1,
   "id": "f05ba3bb-9796-4b9d-be03-47e58de4da61",
   "metadata": {},
   "outputs": [],
   "source": [
    "import cv2\n",
    "from cvzone.HandTrackingModule import HandDetector"
   ]
  },
  {
   "cell_type": "markdown",
   "id": "8faec5e6-80ca-4bdc-b773-1e21a3fa8481",
   "metadata": {},
   "source": [
    "* Thiết Lập Webcam, HandDector"
   ]
  },
  {
   "cell_type": "code",
   "execution_count": 2,
   "id": "472e2c7d-2b6e-467a-8101-947c6483e6a9",
   "metadata": {},
   "outputs": [],
   "source": [
    "cap = cv2.VideoCapture(0)\n",
    "\n",
    "# chỉnh độ rộng id = 3, độ cao id=4\n",
    "cap.set(3,1280)\n",
    "cap.set(4,720)\n",
    "\n",
    "detector = HandDetector(detectionCon=0.8, maxHands=1)"
   ]
  },
  {
   "cell_type": "markdown",
   "id": "07a18a9d-1fea-4967-95b7-4682507c2fe2",
   "metadata": {},
   "source": [
    "* Tạo class cho các nút bấm máy tính"
   ]
  },
  {
   "cell_type": "code",
   "execution_count": 3,
   "id": "f58bb460-59db-4044-ba07-15d9a83c6d1a",
   "metadata": {},
   "outputs": [],
   "source": [
    "class Button:\n",
    "    def __init__(self, pos, width, height, value):\n",
    "        \n",
    "        self.pos = pos\n",
    "        self.width = width\n",
    "        self.height = height\n",
    "        self.value = value\n",
    "        \n",
    "    def draw(self, img):\n",
    "        # Vẽ hình chữ nhật sử dụng như nút bấm máy tính\n",
    "        # Fill màu\n",
    "        cv2.rectangle(img, \n",
    "                      self.pos, \n",
    "                      (self.pos[0] + self.width, self.pos[1] + self.height),\n",
    "                      (225,225,225),\n",
    "                      cv2.FILLED)\n",
    "        # vẽ border\n",
    "        cv2.rectangle(img, \n",
    "                      self.pos, \n",
    "                      (self.pos[0] + self.width, self.pos[1] + self.height),\n",
    "                      (50,50,50),\n",
    "                      2)\n",
    "        \n",
    "        cv2.putText(img,\n",
    "                    self.value, \n",
    "                    (self.pos[0]+20, self.pos[1]+40),\n",
    "                    cv2.FONT_HERSHEY_PLAIN, \n",
    "                    2, \n",
    "                    (50, 50,50), \n",
    "                    2)\n",
    "        \n",
    "    def checkClick(self, x,y):\n",
    "        if self.pos[0] < x < self.pos[0] + self.width and self.pos[1] < y < self.pos[1] + self.height:\n",
    "            cv2.rectangle(img, \n",
    "                          self.pos, \n",
    "                          (self.pos[0] + self.width, self.pos[1] + self.height),\n",
    "                          (255,255,255),\n",
    "                          cv2.FILLED)\n",
    "            # vẽ border\n",
    "            cv2.rectangle(img, \n",
    "                          self.pos, \n",
    "                          (self.pos[0] + self.width, self.pos[1] + self.height),\n",
    "                          (50,50,50),\n",
    "                          2)\n",
    "\n",
    "            cv2.putText(img,\n",
    "                        self.value, \n",
    "                        (self.pos[0] + 15, self.pos[1] + 45),\n",
    "                        cv2.FONT_HERSHEY_PLAIN, \n",
    "                        3, \n",
    "                        (0,0,0), \n",
    "                        3)\n",
    "            return True\n",
    "        else:\n",
    "            return False\n",
    "        \n",
    "        \n",
    "        "
   ]
  },
  {
   "cell_type": "markdown",
   "id": "f16d7974-21c1-4635-8b45-e6b04fe4d20b",
   "metadata": {},
   "source": [
    "* Khởi tạo button"
   ]
  },
  {
   "cell_type": "code",
   "execution_count": 4,
   "id": "21109e11-d23b-4281-958f-17d5b5b41360",
   "metadata": {},
   "outputs": [],
   "source": [
    "# tên của nút\n",
    "buttonListValues = [['7', '8', '9', '*'],\n",
    "                    ['4', '5', '6', '-'],\n",
    "                    ['1', '2', '3', '+'],\n",
    "                    ['0', '/', '.', '=']]\n",
    "\n",
    "# Tạo nút\n",
    "buttonList = []\n",
    "for x in range (4):\n",
    "    for y in range(4):\n",
    "        xpos = x * 60 + 300\n",
    "        ypos = y * 60 + 120\n",
    "        buttonList.append( Button( (xpos,ypos), 60, 60, buttonListValues[y][x] ) )"
   ]
  },
  {
   "cell_type": "code",
   "execution_count": 5,
   "id": "bae3adea-4b70-4c27-9a29-a0c78a42e0d8",
   "metadata": {},
   "outputs": [],
   "source": [
    "myEquation = ''\n",
    "delayCounter = 0"
   ]
  },
  {
   "cell_type": "markdown",
   "id": "59da6cee-880c-42ba-8320-dc0964909e89",
   "metadata": {},
   "source": [
    "* Main Code"
   ]
  },
  {
   "cell_type": "code",
   "execution_count": 6,
   "id": "a01ea12b-5247-4a20-a301-c9743b3ca9b1",
   "metadata": {},
   "outputs": [],
   "source": [
    "while True:\n",
    "    # Lấy hình ảnh từ webcam, bắt chuyển động\n",
    "    success, img = cap.read()\n",
    "    \n",
    "    # Tránh cho hình ảnh bị ngược, ta cần flip nó theo chiều dọc (1), ngang thì (0)\n",
    "    img = cv2.flip(img,1)\n",
    "    \n",
    "    # Phân tích tay\n",
    "    hands, img = detector.findHands(img, flipType=False)\n",
    "    \n",
    "    # Draw nút\n",
    "    cv2.rectangle(img, \n",
    "                  (300, 60), \n",
    "                  (300 + 240, 60 + 60),\n",
    "                  (225,225,225),\n",
    "                  cv2.FILLED)\n",
    "\n",
    "    cv2.rectangle(img, \n",
    "              (300, 60), \n",
    "              (300 + 240, 60 + 60 ),\n",
    "              (50,50,50),\n",
    "              2)\n",
    "    \n",
    "   \n",
    "  \n",
    "    for button in buttonList:\n",
    "        button.draw(img)\n",
    "\n",
    "    # Xét Tay\n",
    "    if hands:\n",
    "        lmList = hands[0]['lmList']\n",
    "        \n",
    "        #Xét khoảng cách 2 ngón tay\n",
    "        length, _, img = detector.findDistance(lmList[8], lmList[12], img)\n",
    "        #print(length)\n",
    "        \n",
    "        x,y = lmList[8]\n",
    "        \n",
    "        if length < 50:\n",
    "            for i, button in enumerate(buttonList):\n",
    "                \n",
    "                # Tính Toán\n",
    "                if button.checkClick(x,y) and delayCounter == 0:\n",
    "                    myValues = buttonListValues[int(i%4)][int(i/4)]\n",
    "                    if myValues == '=':\n",
    "                        myEquation = str(eval(myEquation))\n",
    "                    else:\n",
    "                        myEquation += myValues\n",
    "                    delayCounter = 1\n",
    "                    \n",
    "    # Tránh bị đè nút\n",
    "    if delayCounter != 0:\n",
    "        delayCounter += 1\n",
    "        if delayCounter > 10:\n",
    "            delayCounter = 0\n",
    "        \n",
    "    # Hiện kết quả\n",
    "    cv2.putText(img,\n",
    "                myEquation, \n",
    "                (300 + 10, 60 + 45),\n",
    "                cv2.FONT_HERSHEY_PLAIN, \n",
    "                2, \n",
    "                (50, 50,50), \n",
    "                2)\n",
    "    # Hiện hình ảnh\n",
    "    cv2.imshow('Image', img)\n",
    "    \n",
    "    # Delay 1 milli second\n",
    "    key = cv2.waitKey(1)\n",
    "    \n",
    "    # esc\n",
    "    if key == 27:\n",
    "        cv2.destroyAllWindows()\n",
    "        myEquation = ''\n",
    "        break\n",
    "    \n",
    "    if key == ord('c'):\n",
    "        myEquation = ''"
   ]
  },
  {
   "cell_type": "code",
   "execution_count": null,
   "id": "74a7226b-8b70-4bf9-ad5f-e14cca32c692",
   "metadata": {},
   "outputs": [],
   "source": []
  }
 ],
 "metadata": {
  "kernelspec": {
   "display_name": "Python 3 (ipykernel)",
   "language": "python",
   "name": "python3"
  },
  "language_info": {
   "codemirror_mode": {
    "name": "ipython",
    "version": 3
   },
   "file_extension": ".py",
   "mimetype": "text/x-python",
   "name": "python",
   "nbconvert_exporter": "python",
   "pygments_lexer": "ipython3",
   "version": "3.10.0"
  }
 },
 "nbformat": 4,
 "nbformat_minor": 5
}
