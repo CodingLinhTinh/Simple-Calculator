{
 "cells": [
  {
   "cell_type": "code",
   "execution_count": 1,
   "id": "832dd729-dfee-4131-a786-018006d14c31",
   "metadata": {},
   "outputs": [],
   "source": [
    "from tkinter import *\n",
    "from tkinter import ttk\n",
    "root = Tk()"
   ]
  },
  {
   "cell_type": "code",
   "execution_count": 2,
   "id": "88380f8c-bdbc-4eb4-9605-2352be549a50",
   "metadata": {},
   "outputs": [],
   "source": [
    "# tên của nút\n",
    "buttonListValues = [['7', '8', '9', '*'],\n",
    "                    ['4', '5', '6', '-'],\n",
    "                    ['1', '2', '3', '+'],\n",
    "                    ['0', '/', '.', '=']]\n"
   ]
  },
  {
   "cell_type": "code",
   "execution_count": 3,
   "id": "731f17a8-f646-4907-93b9-8608aa82fb86",
   "metadata": {},
   "outputs": [],
   "source": [
    "def create_but():\n",
    "    button = []\n",
    "    for i in range (len(buttonListValues)**2):\n",
    "        val = buttonListValues[int(i/4)][int(i%4)]\n",
    "            \n",
    "        button.append(ttk.Button(frm, text=val, command = lambda values = val : print_but(values)))\n",
    "        button[i].grid(column= int(i%4)+1, row = int(i/4)+1)\n",
    "    "
   ]
  },
  {
   "cell_type": "code",
   "execution_count": 4,
   "id": "e539ff78-5a74-46e5-8e90-e7832d8eb7af",
   "metadata": {
    "tags": []
   },
   "outputs": [],
   "source": [
    "myEqual = StringVar()\n",
    "equal = ''"
   ]
  },
  {
   "cell_type": "code",
   "execution_count": 5,
   "id": "210d2fef-ee5d-4a38-9ba0-799092018857",
   "metadata": {},
   "outputs": [],
   "source": [
    "def print_but(val):\n",
    "    global myEqual, equal\n",
    "\n",
    "    equal += val\n",
    "    if  equal[-1]== '=':\n",
    "        equal = equal[:-1]\n",
    "        equal = str(eval(equal))\n",
    "        \n",
    "    myEqual.set(equal)\n",
    "        \n",
    "    #print(val)\n",
    "    #print(myEqual)"
   ]
  },
  {
   "cell_type": "code",
   "execution_count": 6,
   "id": "cbac3293-3697-44f2-a2db-f7218a37968b",
   "metadata": {},
   "outputs": [
    {
     "name": "stdout",
     "output_type": "stream",
     "text": [
      "8\n",
      "PY_VAR0\n",
      "*\n",
      "PY_VAR0\n",
      "6\n",
      "PY_VAR0\n",
      "+\n",
      "PY_VAR0\n",
      "6\n",
      "PY_VAR0\n",
      "3\n",
      "PY_VAR0\n",
      "9\n",
      "PY_VAR0\n",
      "5\n",
      "PY_VAR0\n",
      "5\n",
      "PY_VAR0\n",
      "6\n",
      "PY_VAR0\n",
      "=\n",
      "PY_VAR0\n",
      "+\n",
      "PY_VAR0\n",
      "3\n",
      "PY_VAR0\n",
      "3\n",
      "PY_VAR0\n",
      "3\n",
      "PY_VAR0\n",
      "3\n",
      "PY_VAR0\n",
      "=\n",
      "PY_VAR0\n",
      "-\n",
      "PY_VAR0\n",
      "3\n",
      "PY_VAR0\n",
      "3\n",
      "PY_VAR0\n",
      "3\n",
      "PY_VAR0\n",
      "=\n",
      "PY_VAR0\n",
      "*\n",
      "PY_VAR0\n",
      "1\n",
      "PY_VAR0\n",
      "0\n",
      "PY_VAR0\n",
      "0\n",
      "PY_VAR0\n",
      "0\n",
      "PY_VAR0\n",
      "0\n",
      "PY_VAR0\n",
      "=\n",
      "PY_VAR0\n",
      "+\n",
      "PY_VAR0\n",
      "1\n",
      "PY_VAR0\n",
      "0\n",
      "PY_VAR0\n",
      "0\n",
      "PY_VAR0\n",
      "0\n",
      "PY_VAR0\n",
      "0\n",
      "PY_VAR0\n",
      "0\n",
      "PY_VAR0\n",
      "=\n",
      "PY_VAR0\n"
     ]
    }
   ],
   "source": [
    "\n",
    "frm = ttk.Frame(root, padding=10)\n",
    "frm.grid()\n",
    "\n",
    "ttk.Label(frm, text=\"Answer:\").grid(column=0, row=0)\n",
    "\n",
    "label = ttk.Label(frm, textvariable=myEqual, font=(\"Arial\", 25)).grid(column=1, row=0,columnspan=3)\n",
    "\n",
    "create_but()\n",
    "\n",
    "ttk.Button(frm, text=\"Quit\", command=root.destroy).grid(column=5, row=1)\n",
    "root.mainloop()"
   ]
  },
  {
   "cell_type": "code",
   "execution_count": null,
   "id": "8f9393c8-b811-44dc-a1c8-27e066fcbdfd",
   "metadata": {},
   "outputs": [],
   "source": []
  }
 ],
 "metadata": {
  "kernelspec": {
   "display_name": "Python 3 (ipykernel)",
   "language": "python",
   "name": "python3"
  },
  "language_info": {
   "codemirror_mode": {
    "name": "ipython",
    "version": 3
   },
   "file_extension": ".py",
   "mimetype": "text/x-python",
   "name": "python",
   "nbconvert_exporter": "python",
   "pygments_lexer": "ipython3",
   "version": "3.10.0"
  }
 },
 "nbformat": 4,
 "nbformat_minor": 5
}
