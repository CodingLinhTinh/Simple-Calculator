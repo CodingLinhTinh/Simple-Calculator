{
 "cells": [
  {
   "cell_type": "code",
   "execution_count": 48,
   "id": "9f2519e1-9ff2-4c52-981e-6e09358096b0",
   "metadata": {
    "collapsed": true,
    "jupyter": {
     "outputs_hidden": true
    },
    "tags": []
   },
   "outputs": [
    {
     "name": "stdin",
     "output_type": "stream",
     "text": [
      " 0.001*0.03\n"
     ]
    },
    {
     "name": "stdout",
     "output_type": "stream",
     "text": [
      "\n",
      " _____________________\n",
      "|  _________________  |\n",
      "| | JO      3e-05 | |\n",
      "| |_________________| |\n",
      "|  ___ ___ ___   ___  |\n",
      "| | 7 | 8 | 9 | | + | |\n",
      "| |___|___|___| |___| |\n",
      "| | 4 | 5 | 6 | | - | |\n",
      "| |___|___|___| |___| |\n",
      "| | 1 | 2 | 3 | | x | |\n",
      "| |___|___|___| |___| |\n",
      "| | . | 0 | = | | / | |\n",
      "| |___|___|___| |___| |\n",
      "|_____________________|\n",
      "\n"
     ]
    }
   ],
   "source": [
    "\n",
    "cal = '''\n",
    " _____________________\n",
    "|  _________________  |\n",
    "| | JO           0. | |\n",
    "| |_________________| |\n",
    "|  ___ ___ ___   ___  |\n",
    "| | 7 | 8 | 9 | | + | |\n",
    "| |___|___|___| |___| |\n",
    "| | 4 | 5 | 6 | | - | |\n",
    "| |___|___|___| |___| |\n",
    "| | 1 | 2 | 3 | | x | |\n",
    "| |___|___|___| |___| |\n",
    "| | . | 0 | = | | / | |\n",
    "| |___|___|___| |___| |\n",
    "|_____________________|\n",
    "'''\n",
    "raw = cal[60:67]\n",
    "user = input()\n",
    "new_cal = cal.replace(raw, str( eval(user) ) )\n",
    "print(new_cal)"
   ]
  }
 ],
 "metadata": {
  "kernelspec": {
   "display_name": "Python 3 (ipykernel)",
   "language": "python",
   "name": "python3"
  },
  "language_info": {
   "codemirror_mode": {
    "name": "ipython",
    "version": 3
   },
   "file_extension": ".py",
   "mimetype": "text/x-python",
   "name": "python",
   "nbconvert_exporter": "python",
   "pygments_lexer": "ipython3",
   "version": "3.10.0"
  }
 },
 "nbformat": 4,
 "nbformat_minor": 5
}
